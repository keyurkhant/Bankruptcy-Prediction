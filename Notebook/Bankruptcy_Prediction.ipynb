{
  "nbformat": 4,
  "nbformat_minor": 0,
  "metadata": {
    "colab": {
      "name": "Bankruptcy_Prediction.ipynb",
      "provenance": []
    },
    "kernelspec": {
      "name": "python3",
      "display_name": "Python 3"
    }
  },
  "cells": [
    {
      "cell_type": "markdown",
      "metadata": {
        "id": "aQEuOGAM6H1K",
        "colab_type": "text"
      },
      "source": [
        "# Import Libraries"
      ]
    },
    {
      "cell_type": "code",
      "metadata": {
        "id": "6SWtyZ_eNlOw",
        "colab_type": "code",
        "colab": {}
      },
      "source": [
        "import pandas as pd\n",
        "import numpy as np\n",
        "import seaborn as sns\n",
        "import matplotlib.pyplot as plt\n",
        "from pylab import rcParams\n",
        "rcParams['figure.figsize'] = 10,10 \n",
        "%matplotlib inline\n",
        "from imblearn.over_sampling import SMOTE \n",
        "from heatmap import heatmap, corrplot\n",
        "from sklearn.svm import SVC\n",
        "from sklearn.model_selection import train_test_split\n",
        "\n",
        "plt.style.use('bmh')"
      ],
      "execution_count": 0,
      "outputs": []
    },
    {
      "cell_type": "markdown",
      "metadata": {
        "id": "DoYxbrbi6M9-",
        "colab_type": "text"
      },
      "source": [
        "# Exploratory Data Analysis"
      ]
    },
    {
      "cell_type": "markdown",
      "metadata": {
        "id": "pwYu9jNdPRln",
        "colab_type": "text"
      },
      "source": [
        "**Data Fields**\n",
        "\n",
        "\n",
        "    attr1 - net profit / total assets\n",
        "    attr2 - total liabilities / total assets\n",
        "    attr3 - working capital / total assets\n",
        "    attr4 - current assets / short-term liabilities\n",
        "    attr5 - [(cash + short-term securities + receivables - short-term liabilities) / (operating expenses - depreciation)] * 365\n",
        "    attr6 - retained earnings / total assets\n",
        "    attr7 - EBIT / total assets\n",
        "    attr8 - book value of equity / total liabilities\n",
        "    attr9 - sales / total assets\n",
        "    attr10 - equity / total assets\n",
        "    attr11 - (gross profit + extraordinary items + financial expenses) / total assets\n",
        "    attr12 - gross profit / short-term liabilities\n",
        "    attr13 - (gross profit + depreciation) / sales\n",
        "    attr14 - (gross profit + interest) / total assets\n",
        "    attr15 - (total liabilities * 365) / (gross profit + depreciation)\n",
        "    attr16 - (gross profit + depreciation) / total liabilities\n",
        "    attr17 - total assets / total liabilities\n",
        "    attr18 - gross profit / total assets\n",
        "    attr19 - gross profit / sales\n",
        "    attr20 - (inventory * 365) / sales\n",
        "    attr21 - sales (n) / sales (n-1)\n",
        "    attr22 - profit on operating activities / total assets\n",
        "    attr23 - net profit / sales\n",
        "    attr24 - gross profit (in 3 years) / total assets\n",
        "    attr25 - (equity - share capital) / total assets\n",
        "    attr26 - (net profit + depreciation) / total liabilities\n",
        "    attr27 - profit on operating activities / financial expenses\n",
        "    attr28 - working capital / fixed assets\n",
        "    attr29 - logarithm of total assets\n",
        "    attr30 - (total liabilities - cash) / sales\n",
        "    attr31 - (gross profit + interest) / sales\n",
        "    attr32 - (current liabilities * 365) / cost of products sold\n",
        "    attr33 - operating expenses / short-term liabilities\n",
        "    attr34 - operating expenses / total liabilities\n",
        "    attr35 - profit on sales / total assets\n",
        "    attr36 - total sales / total assets\n",
        "    attr37 - (current assets - inventories) / long-term liabilities\n",
        "    attr38 - constant capital / total assets\n",
        "    attr39 - profit on sales / sales\n",
        "    attr40 - (current assets - inventory - receivables) / short-term liabilities\n",
        "    attr41 - total liabilities / ((profit on operating activities + depreciation) * (12/365))\n",
        "    attr42 - profit on operating activities / sales\n",
        "    attr43 - rotation receivables + inventory turnover in days\n",
        "    attr44 - (receivables * 365) / sales\n",
        "    attr45 - net profit / inventory\n",
        "    attr46 - (current assets - inventory) / short-term liabilities\n",
        "    attr47 - (inventory * 365) / cost of products sold\n",
        "    attr48 - EBITDA (profit on operating activities - depreciation) / total assets\n",
        "    attr49 - EBITDA (profit on operating activities - depreciation) / sales\n",
        "    attr50 - current assets / total liabilities\n",
        "    attr51 - short-term liabilities / total assets\n",
        "    attr52 - (short-term liabilities * 365) / cost of products sold)\n",
        "    attr53 - equity / fixed assets\n",
        "    attr54 - constant capital / fixed assets\n",
        "    attr55 - working capital\n",
        "    attr56 - (sales - cost of products sold) / sales\n",
        "    attr57 - (current assets - inventory - short-term liabilities) / (sales - gross profit - depreciation)\n",
        "    attr58 - total costs /total sales\n",
        "    attr59 - long-term liabilities / equity\n",
        "    attr60 - sales / inventory\n",
        "    attr61 - sales / receivables\n",
        "    attr62 - (short-term liabilities *365) / sales\n",
        "    attr63 - sales / short-term liabilities\n",
        "    attr64 - sales / fixed assets\n",
        "    class - the response variable Y: 0 = did not bankrupt; 1 = bankrupt\n"
      ]
    },
    {
      "cell_type": "code",
      "metadata": {
        "id": "uhqgGxaAOyLX",
        "colab_type": "code",
        "outputId": "c62ace3d-2c0f-4a94-c426-a139afe46f96",
        "colab": {
          "base_uri": "https://localhost:8080/",
          "height": 226
        }
      },
      "source": [
        "df1 = pd.read_csv(\"/content/drive/My Drive/Machine Learning/bankruptcy_Train.csv\")\n",
        "df1.head()"
      ],
      "execution_count": 0,
      "outputs": [
        {
          "output_type": "execute_result",
          "data": {
            "text/html": [
              "<div>\n",
              "<style scoped>\n",
              "    .dataframe tbody tr th:only-of-type {\n",
              "        vertical-align: middle;\n",
              "    }\n",
              "\n",
              "    .dataframe tbody tr th {\n",
              "        vertical-align: top;\n",
              "    }\n",
              "\n",
              "    .dataframe thead th {\n",
              "        text-align: right;\n",
              "    }\n",
              "</style>\n",
              "<table border=\"1\" class=\"dataframe\">\n",
              "  <thead>\n",
              "    <tr style=\"text-align: right;\">\n",
              "      <th></th>\n",
              "      <th>Attr1</th>\n",
              "      <th>Attr2</th>\n",
              "      <th>Attr3</th>\n",
              "      <th>Attr4</th>\n",
              "      <th>Attr5</th>\n",
              "      <th>Attr6</th>\n",
              "      <th>Attr7</th>\n",
              "      <th>Attr8</th>\n",
              "      <th>Attr9</th>\n",
              "      <th>Attr10</th>\n",
              "      <th>Attr11</th>\n",
              "      <th>Attr12</th>\n",
              "      <th>Attr13</th>\n",
              "      <th>Attr14</th>\n",
              "      <th>Attr15</th>\n",
              "      <th>Attr16</th>\n",
              "      <th>Attr17</th>\n",
              "      <th>Attr18</th>\n",
              "      <th>Attr19</th>\n",
              "      <th>Attr20</th>\n",
              "      <th>Attr21</th>\n",
              "      <th>Attr22</th>\n",
              "      <th>Attr23</th>\n",
              "      <th>Attr24</th>\n",
              "      <th>Attr25</th>\n",
              "      <th>Attr26</th>\n",
              "      <th>Attr27</th>\n",
              "      <th>Attr28</th>\n",
              "      <th>Attr29</th>\n",
              "      <th>Attr30</th>\n",
              "      <th>Attr31</th>\n",
              "      <th>Attr32</th>\n",
              "      <th>Attr33</th>\n",
              "      <th>Attr34</th>\n",
              "      <th>Attr35</th>\n",
              "      <th>Attr36</th>\n",
              "      <th>Attr37</th>\n",
              "      <th>Attr38</th>\n",
              "      <th>Attr39</th>\n",
              "      <th>Attr40</th>\n",
              "      <th>Attr41</th>\n",
              "      <th>Attr42</th>\n",
              "      <th>Attr43</th>\n",
              "      <th>Attr44</th>\n",
              "      <th>Attr45</th>\n",
              "      <th>Attr46</th>\n",
              "      <th>Attr47</th>\n",
              "      <th>Attr48</th>\n",
              "      <th>Attr49</th>\n",
              "      <th>Attr50</th>\n",
              "      <th>Attr51</th>\n",
              "      <th>Attr52</th>\n",
              "      <th>Attr53</th>\n",
              "      <th>Attr54</th>\n",
              "      <th>Attr55</th>\n",
              "      <th>Attr56</th>\n",
              "      <th>Attr57</th>\n",
              "      <th>Attr58</th>\n",
              "      <th>Attr59</th>\n",
              "      <th>Attr60</th>\n",
              "      <th>Attr61</th>\n",
              "      <th>Attr62</th>\n",
              "      <th>Attr63</th>\n",
              "      <th>Attr64</th>\n",
              "      <th>class</th>\n",
              "    </tr>\n",
              "  </thead>\n",
              "  <tbody>\n",
              "    <tr>\n",
              "      <th>0</th>\n",
              "      <td>-0.031545</td>\n",
              "      <td>-0.091313</td>\n",
              "      <td>-0.040269</td>\n",
              "      <td>-0.013529</td>\n",
              "      <td>0.007406</td>\n",
              "      <td>-0.016047</td>\n",
              "      <td>-0.000264</td>\n",
              "      <td>0.641242</td>\n",
              "      <td>-0.748385</td>\n",
              "      <td>0.126789</td>\n",
              "      <td>-0.214423</td>\n",
              "      <td>-0.036576</td>\n",
              "      <td>-0.010930</td>\n",
              "      <td>-0.000269</td>\n",
              "      <td>-0.005305</td>\n",
              "      <td>-0.242796</td>\n",
              "      <td>0.579994</td>\n",
              "      <td>-0.002400</td>\n",
              "      <td>0.029265</td>\n",
              "      <td>-0.070344</td>\n",
              "      <td>-0.016440</td>\n",
              "      <td>-0.403174</td>\n",
              "      <td>0.033091</td>\n",
              "      <td>-0.004522</td>\n",
              "      <td>0.050225</td>\n",
              "      <td>-0.206675</td>\n",
              "      <td>-0.009990</td>\n",
              "      <td>-0.019370</td>\n",
              "      <td>-0.631107</td>\n",
              "      <td>-0.015546</td>\n",
              "      <td>0.066220</td>\n",
              "      <td>-0.013968</td>\n",
              "      <td>-0.368646</td>\n",
              "      <td>-0.144382</td>\n",
              "      <td>-0.435600</td>\n",
              "      <td>-0.974157</td>\n",
              "      <td>-0.034079</td>\n",
              "      <td>0.079760</td>\n",
              "      <td>-0.016173</td>\n",
              "      <td>0.181241</td>\n",
              "      <td>-0.007215</td>\n",
              "      <td>-0.013949</td>\n",
              "      <td>-0.019305</td>\n",
              "      <td>-0.009084</td>\n",
              "      <td>0.017225</td>\n",
              "      <td>0.147450</td>\n",
              "      <td>-0.041943</td>\n",
              "      <td>-0.147901</td>\n",
              "      <td>0.004856</td>\n",
              "      <td>-0.192331</td>\n",
              "      <td>-1.027090</td>\n",
              "      <td>-0.013322</td>\n",
              "      <td>-0.016363</td>\n",
              "      <td>-0.018113</td>\n",
              "      <td>-0.110578</td>\n",
              "      <td>0.014367</td>\n",
              "      <td>0.005457</td>\n",
              "      <td>-0.014143</td>\n",
              "      <td>-0.020924</td>\n",
              "      <td>0.068399</td>\n",
              "      <td>-0.214478</td>\n",
              "      <td>-0.013915</td>\n",
              "      <td>-0.173939</td>\n",
              "      <td>-0.046788</td>\n",
              "      <td>0</td>\n",
              "    </tr>\n",
              "    <tr>\n",
              "      <th>1</th>\n",
              "      <td>-0.231729</td>\n",
              "      <td>-0.049448</td>\n",
              "      <td>0.304381</td>\n",
              "      <td>-0.080975</td>\n",
              "      <td>0.007515</td>\n",
              "      <td>-0.016047</td>\n",
              "      <td>-0.034963</td>\n",
              "      <td>0.074710</td>\n",
              "      <td>0.469815</td>\n",
              "      <td>0.073759</td>\n",
              "      <td>-0.835505</td>\n",
              "      <td>-0.299606</td>\n",
              "      <td>-0.013057</td>\n",
              "      <td>-0.034968</td>\n",
              "      <td>-0.119627</td>\n",
              "      <td>-0.603332</td>\n",
              "      <td>0.040666</td>\n",
              "      <td>-0.036566</td>\n",
              "      <td>-0.025914</td>\n",
              "      <td>-0.047947</td>\n",
              "      <td>-0.016961</td>\n",
              "      <td>-0.873423</td>\n",
              "      <td>-0.022188</td>\n",
              "      <td>0.048932</td>\n",
              "      <td>0.274101</td>\n",
              "      <td>-0.591456</td>\n",
              "      <td>-0.010933</td>\n",
              "      <td>-0.015829</td>\n",
              "      <td>-1.168550</td>\n",
              "      <td>-0.022214</td>\n",
              "      <td>-0.031486</td>\n",
              "      <td>-0.023158</td>\n",
              "      <td>0.021977</td>\n",
              "      <td>1.228971</td>\n",
              "      <td>-0.986256</td>\n",
              "      <td>0.189765</td>\n",
              "      <td>-0.024464</td>\n",
              "      <td>0.011069</td>\n",
              "      <td>-0.052642</td>\n",
              "      <td>-0.088079</td>\n",
              "      <td>-0.007880</td>\n",
              "      <td>-0.039637</td>\n",
              "      <td>-0.016443</td>\n",
              "      <td>-0.009659</td>\n",
              "      <td>0.002374</td>\n",
              "      <td>-0.013532</td>\n",
              "      <td>-0.035025</td>\n",
              "      <td>-0.789621</td>\n",
              "      <td>-0.025223</td>\n",
              "      <td>0.186782</td>\n",
              "      <td>-0.079059</td>\n",
              "      <td>-0.022531</td>\n",
              "      <td>-0.003012</td>\n",
              "      <td>-0.014462</td>\n",
              "      <td>-0.114919</td>\n",
              "      <td>0.008492</td>\n",
              "      <td>-0.008385</td>\n",
              "      <td>-0.008666</td>\n",
              "      <td>-0.023095</td>\n",
              "      <td>-0.033498</td>\n",
              "      <td>-0.205796</td>\n",
              "      <td>-0.015174</td>\n",
              "      <td>-0.073056</td>\n",
              "      <td>-0.027236</td>\n",
              "      <td>0</td>\n",
              "    </tr>\n",
              "    <tr>\n",
              "      <th>2</th>\n",
              "      <td>-0.058602</td>\n",
              "      <td>0.065060</td>\n",
              "      <td>-0.488404</td>\n",
              "      <td>-0.189489</td>\n",
              "      <td>0.006572</td>\n",
              "      <td>-0.016047</td>\n",
              "      <td>-0.004954</td>\n",
              "      <td>-0.456287</td>\n",
              "      <td>0.270351</td>\n",
              "      <td>-0.071287</td>\n",
              "      <td>0.156944</td>\n",
              "      <td>-0.151208</td>\n",
              "      <td>-0.011717</td>\n",
              "      <td>-0.004959</td>\n",
              "      <td>0.009484</td>\n",
              "      <td>-0.367159</td>\n",
              "      <td>-0.464823</td>\n",
              "      <td>-0.007018</td>\n",
              "      <td>0.004393</td>\n",
              "      <td>0.001761</td>\n",
              "      <td>-0.017504</td>\n",
              "      <td>0.152437</td>\n",
              "      <td>0.008174</td>\n",
              "      <td>0.030648</td>\n",
              "      <td>-0.114349</td>\n",
              "      <td>-0.339401</td>\n",
              "      <td>-0.009932</td>\n",
              "      <td>-0.020932</td>\n",
              "      <td>0.096212</td>\n",
              "      <td>-0.015228</td>\n",
              "      <td>0.009129</td>\n",
              "      <td>-0.015985</td>\n",
              "      <td>-0.320198</td>\n",
              "      <td>0.059970</td>\n",
              "      <td>0.766162</td>\n",
              "      <td>-0.000812</td>\n",
              "      <td>-0.034541</td>\n",
              "      <td>-0.023796</td>\n",
              "      <td>0.068469</td>\n",
              "      <td>-0.147563</td>\n",
              "      <td>-0.007395</td>\n",
              "      <td>0.020264</td>\n",
              "      <td>-0.015378</td>\n",
              "      <td>-0.016517</td>\n",
              "      <td>0.003911</td>\n",
              "      <td>-0.234744</td>\n",
              "      <td>-0.012947</td>\n",
              "      <td>0.084584</td>\n",
              "      <td>0.030258</td>\n",
              "      <td>-0.468628</td>\n",
              "      <td>0.393587</td>\n",
              "      <td>-0.015343</td>\n",
              "      <td>-0.030162</td>\n",
              "      <td>-0.019637</td>\n",
              "      <td>-0.123266</td>\n",
              "      <td>0.010819</td>\n",
              "      <td>0.006779</td>\n",
              "      <td>-0.009437</td>\n",
              "      <td>-0.007919</td>\n",
              "      <td>-0.043455</td>\n",
              "      <td>0.019740</td>\n",
              "      <td>-0.011736</td>\n",
              "      <td>-0.291624</td>\n",
              "      <td>-0.033580</td>\n",
              "      <td>0</td>\n",
              "    </tr>\n",
              "    <tr>\n",
              "      <th>3</th>\n",
              "      <td>-0.069376</td>\n",
              "      <td>0.044641</td>\n",
              "      <td>-0.181684</td>\n",
              "      <td>-0.140032</td>\n",
              "      <td>0.007477</td>\n",
              "      <td>-0.010915</td>\n",
              "      <td>-0.005599</td>\n",
              "      <td>-0.462971</td>\n",
              "      <td>-0.286746</td>\n",
              "      <td>-0.085266</td>\n",
              "      <td>-0.314756</td>\n",
              "      <td>-0.145529</td>\n",
              "      <td>-0.011006</td>\n",
              "      <td>-0.005604</td>\n",
              "      <td>0.045912</td>\n",
              "      <td>-0.454498</td>\n",
              "      <td>-0.413685</td>\n",
              "      <td>-0.007653</td>\n",
              "      <td>0.015724</td>\n",
              "      <td>-0.006430</td>\n",
              "      <td>-0.016114</td>\n",
              "      <td>-0.089462</td>\n",
              "      <td>0.014594</td>\n",
              "      <td>-0.038157</td>\n",
              "      <td>-0.105949</td>\n",
              "      <td>-0.442992</td>\n",
              "      <td>-0.009921</td>\n",
              "      <td>-0.019568</td>\n",
              "      <td>0.296277</td>\n",
              "      <td>0.014673</td>\n",
              "      <td>0.011289</td>\n",
              "      <td>0.006586</td>\n",
              "      <td>-0.577178</td>\n",
              "      <td>-0.643082</td>\n",
              "      <td>-0.100314</td>\n",
              "      <td>-1.069789</td>\n",
              "      <td>-0.034467</td>\n",
              "      <td>-0.004106</td>\n",
              "      <td>0.071021</td>\n",
              "      <td>-0.139320</td>\n",
              "      <td>-0.007335</td>\n",
              "      <td>0.055757</td>\n",
              "      <td>0.018686</td>\n",
              "      <td>0.020758</td>\n",
              "      <td>0.004064</td>\n",
              "      <td>-0.067912</td>\n",
              "      <td>-0.016611</td>\n",
              "      <td>0.079518</td>\n",
              "      <td>0.058513</td>\n",
              "      <td>-0.515188</td>\n",
              "      <td>-0.267896</td>\n",
              "      <td>0.007275</td>\n",
              "      <td>-0.033926</td>\n",
              "      <td>-0.019978</td>\n",
              "      <td>-0.077078</td>\n",
              "      <td>0.010683</td>\n",
              "      <td>0.005384</td>\n",
              "      <td>-0.010840</td>\n",
              "      <td>0.001381</td>\n",
              "      <td>-0.042828</td>\n",
              "      <td>-0.350519</td>\n",
              "      <td>0.002969</td>\n",
              "      <td>-0.554685</td>\n",
              "      <td>-0.046823</td>\n",
              "      <td>0</td>\n",
              "    </tr>\n",
              "    <tr>\n",
              "      <th>4</th>\n",
              "      <td>0.236424</td>\n",
              "      <td>-0.051912</td>\n",
              "      <td>0.678337</td>\n",
              "      <td>-0.014680</td>\n",
              "      <td>0.007879</td>\n",
              "      <td>-0.016047</td>\n",
              "      <td>0.057418</td>\n",
              "      <td>0.097183</td>\n",
              "      <td>0.423405</td>\n",
              "      <td>0.076880</td>\n",
              "      <td>0.918860</td>\n",
              "      <td>0.208686</td>\n",
              "      <td>-0.008905</td>\n",
              "      <td>0.057413</td>\n",
              "      <td>-0.021015</td>\n",
              "      <td>0.744187</td>\n",
              "      <td>0.062059</td>\n",
              "      <td>0.054396</td>\n",
              "      <td>0.067324</td>\n",
              "      <td>-0.043107</td>\n",
              "      <td>-0.016046</td>\n",
              "      <td>0.866831</td>\n",
              "      <td>0.059779</td>\n",
              "      <td>0.107718</td>\n",
              "      <td>-0.127631</td>\n",
              "      <td>0.675202</td>\n",
              "      <td>-0.009057</td>\n",
              "      <td>-0.012056</td>\n",
              "      <td>-0.501471</td>\n",
              "      <td>-0.024625</td>\n",
              "      <td>0.069616</td>\n",
              "      <td>-0.021937</td>\n",
              "      <td>-0.069159</td>\n",
              "      <td>0.891985</td>\n",
              "      <td>1.004640</td>\n",
              "      <td>0.145423</td>\n",
              "      <td>-0.030398</td>\n",
              "      <td>0.019693</td>\n",
              "      <td>0.076296</td>\n",
              "      <td>0.017858</td>\n",
              "      <td>-0.007445</td>\n",
              "      <td>0.057300</td>\n",
              "      <td>-0.017012</td>\n",
              "      <td>-0.011036</td>\n",
              "      <td>0.006550</td>\n",
              "      <td>0.049879</td>\n",
              "      <td>-0.031184</td>\n",
              "      <td>0.615414</td>\n",
              "      <td>0.063054</td>\n",
              "      <td>0.342874</td>\n",
              "      <td>-0.210252</td>\n",
              "      <td>-0.021307</td>\n",
              "      <td>0.005230</td>\n",
              "      <td>-0.010739</td>\n",
              "      <td>-0.076644</td>\n",
              "      <td>0.010970</td>\n",
              "      <td>0.025295</td>\n",
              "      <td>-0.011056</td>\n",
              "      <td>-0.022535</td>\n",
              "      <td>-0.035892</td>\n",
              "      <td>-0.181557</td>\n",
              "      <td>-0.015623</td>\n",
              "      <td>-0.027841</td>\n",
              "      <td>-0.023694</td>\n",
              "      <td>0</td>\n",
              "    </tr>\n",
              "  </tbody>\n",
              "</table>\n",
              "</div>"
            ],
            "text/plain": [
              "      Attr1     Attr2     Attr3     Attr4  ...    Attr62    Attr63    Attr64  class\n",
              "0 -0.031545 -0.091313 -0.040269 -0.013529  ... -0.013915 -0.173939 -0.046788      0\n",
              "1 -0.231729 -0.049448  0.304381 -0.080975  ... -0.015174 -0.073056 -0.027236      0\n",
              "2 -0.058602  0.065060 -0.488404 -0.189489  ... -0.011736 -0.291624 -0.033580      0\n",
              "3 -0.069376  0.044641 -0.181684 -0.140032  ...  0.002969 -0.554685 -0.046823      0\n",
              "4  0.236424 -0.051912  0.678337 -0.014680  ... -0.015623 -0.027841 -0.023694      0\n",
              "\n",
              "[5 rows x 65 columns]"
            ]
          },
          "metadata": {
            "tags": []
          },
          "execution_count": 15
        }
      ]
    },
    {
      "cell_type": "code",
      "metadata": {
        "id": "EToV8rNsO84Q",
        "colab_type": "code",
        "outputId": "a1959cf2-4134-4a16-fa8e-526d53f99106",
        "colab": {
          "base_uri": "https://localhost:8080/",
          "height": 34
        }
      },
      "source": [
        "df1.shape"
      ],
      "execution_count": 0,
      "outputs": [
        {
          "output_type": "execute_result",
          "data": {
            "text/plain": [
              "(10000, 65)"
            ]
          },
          "metadata": {
            "tags": []
          },
          "execution_count": 16
        }
      ]
    },
    {
      "cell_type": "code",
      "metadata": {
        "id": "FgKVApxrPqAk",
        "colab_type": "code",
        "outputId": "6cac4c12-b21a-45f3-d46e-9835ea417535",
        "colab": {
          "base_uri": "https://localhost:8080/",
          "height": 86
        }
      },
      "source": [
        "neg, pos = np.bincount(df1['class'])\n",
        "total = neg + pos\n",
        "print('Examples:\\n    Total: {}\\n    Positive: {} ({:.2f}% of total)\\n'.format(\n",
        "    total, pos, 100 * pos / total))"
      ],
      "execution_count": 0,
      "outputs": [
        {
          "output_type": "stream",
          "text": [
            "Examples:\n",
            "    Total: 10000\n",
            "    Positive: 203 (2.03% of total)\n",
            "\n"
          ],
          "name": "stdout"
        }
      ]
    },
    {
      "cell_type": "code",
      "metadata": {
        "id": "5ilOahaNQPoi",
        "colab_type": "code",
        "colab": {}
      },
      "source": [
        "y1 = df1['class']\n",
        "X1 = df1.drop(columns = ['class'])"
      ],
      "execution_count": 0,
      "outputs": []
    },
    {
      "cell_type": "code",
      "metadata": {
        "id": "wm6GSlGgXeWU",
        "colab_type": "code",
        "outputId": "93345ce9-6f57-46b4-c26a-a4826754819d",
        "colab": {
          "base_uri": "https://localhost:8080/",
          "height": 72
        }
      },
      "source": [
        "oversample = SMOTE(random_state = 42)\n",
        "\n",
        "X, y = oversample.fit_sample(X1,y1)"
      ],
      "execution_count": 0,
      "outputs": [
        {
          "output_type": "stream",
          "text": [
            "/usr/local/lib/python3.6/dist-packages/sklearn/utils/deprecation.py:87: FutureWarning: Function safe_indexing is deprecated; safe_indexing is deprecated in version 0.22 and will be removed in version 0.24.\n",
            "  warnings.warn(msg, category=FutureWarning)\n"
          ],
          "name": "stderr"
        }
      ]
    },
    {
      "cell_type": "code",
      "metadata": {
        "id": "adycckwPXhha",
        "colab_type": "code",
        "outputId": "a74db0ed-2475-4dd1-86eb-60a1f3f1f56b",
        "colab": {
          "base_uri": "https://localhost:8080/",
          "height": 86
        }
      },
      "source": [
        "neg, pos = np.bincount(y)\n",
        "total = neg + pos\n",
        "print('Examples:\\n    Total: {}\\n    Positive: {} ({:.2f}% of total)\\n'.format(\n",
        "    total, pos, 100 * pos / total))"
      ],
      "execution_count": 0,
      "outputs": [
        {
          "output_type": "stream",
          "text": [
            "Examples:\n",
            "    Total: 19594\n",
            "    Positive: 9797 (50.00% of total)\n",
            "\n"
          ],
          "name": "stdout"
        }
      ]
    },
    {
      "cell_type": "code",
      "metadata": {
        "id": "E8ZzVl0mZ4fN",
        "colab_type": "code",
        "outputId": "34c6eedb-37da-45bd-dc1b-13a941ae206a",
        "colab": {
          "base_uri": "https://localhost:8080/",
          "height": 34
        }
      },
      "source": [
        "X.shape , y.shape"
      ],
      "execution_count": 0,
      "outputs": [
        {
          "output_type": "execute_result",
          "data": {
            "text/plain": [
              "((19594, 64), (19594,))"
            ]
          },
          "metadata": {
            "tags": []
          },
          "execution_count": 21
        }
      ]
    },
    {
      "cell_type": "code",
      "metadata": {
        "id": "5NirwybhaGqI",
        "colab_type": "code",
        "colab": {}
      },
      "source": [
        "y = np.reshape(y, (19594,1))"
      ],
      "execution_count": 0,
      "outputs": []
    },
    {
      "cell_type": "code",
      "metadata": {
        "id": "ZyTyHCL_b0v8",
        "colab_type": "code",
        "colab": {}
      },
      "source": [
        "df = pd.DataFrame((np.concatenate((X,y) , axis=1)), columns= df1.columns)"
      ],
      "execution_count": 0,
      "outputs": []
    },
    {
      "cell_type": "code",
      "metadata": {
        "id": "M2Gayu0EcbPT",
        "colab_type": "code",
        "colab": {}
      },
      "source": [
        "df.head()"
      ],
      "execution_count": 0,
      "outputs": []
    },
    {
      "cell_type": "code",
      "metadata": {
        "id": "x0Y85rmCcmhK",
        "colab_type": "code",
        "colab": {}
      },
      "source": [
        "df.describe()"
      ],
      "execution_count": 0,
      "outputs": []
    },
    {
      "cell_type": "code",
      "metadata": {
        "id": "LnAF6cSVqKZb",
        "colab_type": "code",
        "colab": {}
      },
      "source": [
        "plt.figure(figsize=(50,50))\n",
        "cor = df.corr()\n",
        "sns.heatmap(cor, annot=True, cmap=plt.cm.Reds)\n",
        "plt.show()"
      ],
      "execution_count": 0,
      "outputs": []
    },
    {
      "cell_type": "code",
      "metadata": {
        "id": "oxKTVBf4rzji",
        "colab_type": "code",
        "colab": {}
      },
      "source": [
        "#Correlation with output variable\n",
        "cor_target = abs(cor[\"class\"])\n",
        "\n",
        "#Selecting highly correlated features\n",
        "relevant_features = cor_target[cor_target>0.02]"
      ],
      "execution_count": 0,
      "outputs": []
    },
    {
      "cell_type": "code",
      "metadata": {
        "id": "UbSz5iYgsvyY",
        "colab_type": "code",
        "outputId": "917223da-b774-430a-b37e-c3a7b194ca70",
        "colab": {
          "base_uri": "https://localhost:8080/",
          "height": 34
        }
      },
      "source": [
        "len(relevant_features)"
      ],
      "execution_count": 0,
      "outputs": [
        {
          "output_type": "execute_result",
          "data": {
            "text/plain": [
              "31"
            ]
          },
          "metadata": {
            "tags": []
          },
          "execution_count": 57
        }
      ]
    },
    {
      "cell_type": "code",
      "metadata": {
        "id": "h6vlOYSRs-Qd",
        "colab_type": "code",
        "colab": {}
      },
      "source": [
        "col = df.columns\n",
        "dropcol = []\n",
        "for i in col:\n",
        "  if i not in relevant_features:\n",
        "    dropcol.append(i)\n",
        "df = df.drop(dropcol,axis = 1)"
      ],
      "execution_count": 0,
      "outputs": []
    },
    {
      "cell_type": "code",
      "metadata": {
        "id": "ORNCTuGqvZXP",
        "colab_type": "code",
        "outputId": "3bc4e364-4879-4579-d065-14a0200f038d",
        "colab": {
          "base_uri": "https://localhost:8080/",
          "height": 226
        }
      },
      "source": [
        "df.head()"
      ],
      "execution_count": 0,
      "outputs": [
        {
          "output_type": "execute_result",
          "data": {
            "text/html": [
              "<div>\n",
              "<style scoped>\n",
              "    .dataframe tbody tr th:only-of-type {\n",
              "        vertical-align: middle;\n",
              "    }\n",
              "\n",
              "    .dataframe tbody tr th {\n",
              "        vertical-align: top;\n",
              "    }\n",
              "\n",
              "    .dataframe thead th {\n",
              "        text-align: right;\n",
              "    }\n",
              "</style>\n",
              "<table border=\"1\" class=\"dataframe\">\n",
              "  <thead>\n",
              "    <tr style=\"text-align: right;\">\n",
              "      <th></th>\n",
              "      <th>Attr1</th>\n",
              "      <th>Attr2</th>\n",
              "      <th>Attr3</th>\n",
              "      <th>Attr4</th>\n",
              "      <th>Attr8</th>\n",
              "      <th>Attr9</th>\n",
              "      <th>Attr10</th>\n",
              "      <th>Attr11</th>\n",
              "      <th>Attr12</th>\n",
              "      <th>Attr16</th>\n",
              "      <th>Attr17</th>\n",
              "      <th>Attr22</th>\n",
              "      <th>Attr25</th>\n",
              "      <th>Attr26</th>\n",
              "      <th>Attr29</th>\n",
              "      <th>Attr33</th>\n",
              "      <th>Attr34</th>\n",
              "      <th>Attr35</th>\n",
              "      <th>Attr36</th>\n",
              "      <th>Attr38</th>\n",
              "      <th>Attr39</th>\n",
              "      <th>Attr40</th>\n",
              "      <th>Attr46</th>\n",
              "      <th>Attr48</th>\n",
              "      <th>Attr50</th>\n",
              "      <th>Attr51</th>\n",
              "      <th>Attr55</th>\n",
              "      <th>Attr57</th>\n",
              "      <th>Attr61</th>\n",
              "      <th>Attr63</th>\n",
              "      <th>class</th>\n",
              "    </tr>\n",
              "  </thead>\n",
              "  <tbody>\n",
              "    <tr>\n",
              "      <th>0</th>\n",
              "      <td>-0.031545</td>\n",
              "      <td>-0.091313</td>\n",
              "      <td>-0.040269</td>\n",
              "      <td>-0.013529</td>\n",
              "      <td>0.641242</td>\n",
              "      <td>-0.748385</td>\n",
              "      <td>0.126789</td>\n",
              "      <td>-0.214423</td>\n",
              "      <td>-0.036576</td>\n",
              "      <td>-0.242796</td>\n",
              "      <td>0.579994</td>\n",
              "      <td>-0.403174</td>\n",
              "      <td>0.050225</td>\n",
              "      <td>-0.206675</td>\n",
              "      <td>-0.631107</td>\n",
              "      <td>-0.368646</td>\n",
              "      <td>-0.144382</td>\n",
              "      <td>-0.435600</td>\n",
              "      <td>-0.974157</td>\n",
              "      <td>0.079760</td>\n",
              "      <td>-0.016173</td>\n",
              "      <td>0.181241</td>\n",
              "      <td>0.147450</td>\n",
              "      <td>-0.147901</td>\n",
              "      <td>-0.192331</td>\n",
              "      <td>-1.027090</td>\n",
              "      <td>-0.110578</td>\n",
              "      <td>0.005457</td>\n",
              "      <td>-0.214478</td>\n",
              "      <td>-0.173939</td>\n",
              "      <td>0.0</td>\n",
              "    </tr>\n",
              "    <tr>\n",
              "      <th>1</th>\n",
              "      <td>-0.231729</td>\n",
              "      <td>-0.049448</td>\n",
              "      <td>0.304381</td>\n",
              "      <td>-0.080975</td>\n",
              "      <td>0.074710</td>\n",
              "      <td>0.469815</td>\n",
              "      <td>0.073759</td>\n",
              "      <td>-0.835505</td>\n",
              "      <td>-0.299606</td>\n",
              "      <td>-0.603332</td>\n",
              "      <td>0.040666</td>\n",
              "      <td>-0.873423</td>\n",
              "      <td>0.274101</td>\n",
              "      <td>-0.591456</td>\n",
              "      <td>-1.168550</td>\n",
              "      <td>0.021977</td>\n",
              "      <td>1.228971</td>\n",
              "      <td>-0.986256</td>\n",
              "      <td>0.189765</td>\n",
              "      <td>0.011069</td>\n",
              "      <td>-0.052642</td>\n",
              "      <td>-0.088079</td>\n",
              "      <td>-0.013532</td>\n",
              "      <td>-0.789621</td>\n",
              "      <td>0.186782</td>\n",
              "      <td>-0.079059</td>\n",
              "      <td>-0.114919</td>\n",
              "      <td>-0.008385</td>\n",
              "      <td>-0.205796</td>\n",
              "      <td>-0.073056</td>\n",
              "      <td>0.0</td>\n",
              "    </tr>\n",
              "    <tr>\n",
              "      <th>2</th>\n",
              "      <td>-0.058602</td>\n",
              "      <td>0.065060</td>\n",
              "      <td>-0.488404</td>\n",
              "      <td>-0.189489</td>\n",
              "      <td>-0.456287</td>\n",
              "      <td>0.270351</td>\n",
              "      <td>-0.071287</td>\n",
              "      <td>0.156944</td>\n",
              "      <td>-0.151208</td>\n",
              "      <td>-0.367159</td>\n",
              "      <td>-0.464823</td>\n",
              "      <td>0.152437</td>\n",
              "      <td>-0.114349</td>\n",
              "      <td>-0.339401</td>\n",
              "      <td>0.096212</td>\n",
              "      <td>-0.320198</td>\n",
              "      <td>0.059970</td>\n",
              "      <td>0.766162</td>\n",
              "      <td>-0.000812</td>\n",
              "      <td>-0.023796</td>\n",
              "      <td>0.068469</td>\n",
              "      <td>-0.147563</td>\n",
              "      <td>-0.234744</td>\n",
              "      <td>0.084584</td>\n",
              "      <td>-0.468628</td>\n",
              "      <td>0.393587</td>\n",
              "      <td>-0.123266</td>\n",
              "      <td>0.006779</td>\n",
              "      <td>0.019740</td>\n",
              "      <td>-0.291624</td>\n",
              "      <td>0.0</td>\n",
              "    </tr>\n",
              "    <tr>\n",
              "      <th>3</th>\n",
              "      <td>-0.069376</td>\n",
              "      <td>0.044641</td>\n",
              "      <td>-0.181684</td>\n",
              "      <td>-0.140032</td>\n",
              "      <td>-0.462971</td>\n",
              "      <td>-0.286746</td>\n",
              "      <td>-0.085266</td>\n",
              "      <td>-0.314756</td>\n",
              "      <td>-0.145529</td>\n",
              "      <td>-0.454498</td>\n",
              "      <td>-0.413685</td>\n",
              "      <td>-0.089462</td>\n",
              "      <td>-0.105949</td>\n",
              "      <td>-0.442992</td>\n",
              "      <td>0.296277</td>\n",
              "      <td>-0.577178</td>\n",
              "      <td>-0.643082</td>\n",
              "      <td>-0.100314</td>\n",
              "      <td>-1.069789</td>\n",
              "      <td>-0.004106</td>\n",
              "      <td>0.071021</td>\n",
              "      <td>-0.139320</td>\n",
              "      <td>-0.067912</td>\n",
              "      <td>0.079518</td>\n",
              "      <td>-0.515188</td>\n",
              "      <td>-0.267896</td>\n",
              "      <td>-0.077078</td>\n",
              "      <td>0.005384</td>\n",
              "      <td>-0.350519</td>\n",
              "      <td>-0.554685</td>\n",
              "      <td>0.0</td>\n",
              "    </tr>\n",
              "    <tr>\n",
              "      <th>4</th>\n",
              "      <td>0.236424</td>\n",
              "      <td>-0.051912</td>\n",
              "      <td>0.678337</td>\n",
              "      <td>-0.014680</td>\n",
              "      <td>0.097183</td>\n",
              "      <td>0.423405</td>\n",
              "      <td>0.076880</td>\n",
              "      <td>0.918860</td>\n",
              "      <td>0.208686</td>\n",
              "      <td>0.744187</td>\n",
              "      <td>0.062059</td>\n",
              "      <td>0.866831</td>\n",
              "      <td>-0.127631</td>\n",
              "      <td>0.675202</td>\n",
              "      <td>-0.501471</td>\n",
              "      <td>-0.069159</td>\n",
              "      <td>0.891985</td>\n",
              "      <td>1.004640</td>\n",
              "      <td>0.145423</td>\n",
              "      <td>0.019693</td>\n",
              "      <td>0.076296</td>\n",
              "      <td>0.017858</td>\n",
              "      <td>0.049879</td>\n",
              "      <td>0.615414</td>\n",
              "      <td>0.342874</td>\n",
              "      <td>-0.210252</td>\n",
              "      <td>-0.076644</td>\n",
              "      <td>0.025295</td>\n",
              "      <td>-0.181557</td>\n",
              "      <td>-0.027841</td>\n",
              "      <td>0.0</td>\n",
              "    </tr>\n",
              "  </tbody>\n",
              "</table>\n",
              "</div>"
            ],
            "text/plain": [
              "      Attr1     Attr2     Attr3     Attr4  ...    Attr57    Attr61    Attr63  class\n",
              "0 -0.031545 -0.091313 -0.040269 -0.013529  ...  0.005457 -0.214478 -0.173939    0.0\n",
              "1 -0.231729 -0.049448  0.304381 -0.080975  ... -0.008385 -0.205796 -0.073056    0.0\n",
              "2 -0.058602  0.065060 -0.488404 -0.189489  ...  0.006779  0.019740 -0.291624    0.0\n",
              "3 -0.069376  0.044641 -0.181684 -0.140032  ...  0.005384 -0.350519 -0.554685    0.0\n",
              "4  0.236424 -0.051912  0.678337 -0.014680  ...  0.025295 -0.181557 -0.027841    0.0\n",
              "\n",
              "[5 rows x 31 columns]"
            ]
          },
          "metadata": {
            "tags": []
          },
          "execution_count": 61
        }
      ]
    },
    {
      "cell_type": "markdown",
      "metadata": {
        "id": "7zky6jWsxp8Q",
        "colab_type": "text"
      },
      "source": [
        "# Train Test Split"
      ]
    },
    {
      "cell_type": "code",
      "metadata": {
        "id": "PMrcR8XCxaRO",
        "colab_type": "code",
        "colab": {}
      },
      "source": [
        "y = df['class']\n",
        "X = df.drop('class',axis = 1) \n",
        "y = y.values\n",
        "X = X.values"
      ],
      "execution_count": 0,
      "outputs": []
    },
    {
      "cell_type": "code",
      "metadata": {
        "id": "XQKgtfDaxaOW",
        "colab_type": "code",
        "colab": {}
      },
      "source": [
        "X_train, X_test, y_train, y_test = train_test_split(X, y, test_size=0.25, random_state=42,shuffle = True)"
      ],
      "execution_count": 0,
      "outputs": []
    },
    {
      "cell_type": "code",
      "metadata": {
        "id": "bQJUzjDqxaLQ",
        "colab_type": "code",
        "outputId": "aa575085-366e-49b0-cb9c-69e504548a3e",
        "colab": {
          "base_uri": "https://localhost:8080/",
          "height": 86
        }
      },
      "source": [
        "print('Training Features Shape:', X_train.shape)\n",
        "print('Training Labels Shape:', y_train.shape)\n",
        "print('Testing Features Shape:', X_test.shape)\n",
        "print('Testing Labels Shape:', y_test.shape)"
      ],
      "execution_count": 0,
      "outputs": [
        {
          "output_type": "stream",
          "text": [
            "Training Features Shape: (14695, 30)\n",
            "Training Labels Shape: (14695,)\n",
            "Testing Features Shape: (4899, 30)\n",
            "Testing Labels Shape: (4899,)\n"
          ],
          "name": "stdout"
        }
      ]
    },
    {
      "cell_type": "code",
      "metadata": {
        "id": "ZBZVR0sixaFR",
        "colab_type": "code",
        "colab": {}
      },
      "source": [
        "from sklearn.preprocessing import StandardScaler\n",
        "\n",
        "scaler = StandardScaler()\n",
        "scaler.fit(X_train)\n",
        "X_train = scaler.transform(X_train)\n",
        "X_test = scaler.transform(X_test)"
      ],
      "execution_count": 0,
      "outputs": []
    },
    {
      "cell_type": "markdown",
      "metadata": {
        "id": "wVTOWHJYyuDj",
        "colab_type": "text"
      },
      "source": [
        "# Model Building"
      ]
    },
    {
      "cell_type": "code",
      "metadata": {
        "id": "bu-PhGe-ySqB",
        "colab_type": "code",
        "outputId": "ed61deb6-ec17-4500-b66c-e2ca030542b1",
        "colab": {
          "base_uri": "https://localhost:8080/",
          "height": 86
        }
      },
      "source": [
        "model = SVC(probability=True)\n",
        "model.fit(X_train,y_train)"
      ],
      "execution_count": 0,
      "outputs": [
        {
          "output_type": "execute_result",
          "data": {
            "text/plain": [
              "SVC(C=1.0, break_ties=False, cache_size=200, class_weight=None, coef0=0.0,\n",
              "    decision_function_shape='ovr', degree=3, gamma='scale', kernel='rbf',\n",
              "    max_iter=-1, probability=True, random_state=None, shrinking=True, tol=0.001,\n",
              "    verbose=False)"
            ]
          },
          "metadata": {
            "tags": []
          },
          "execution_count": 81
        }
      ]
    },
    {
      "cell_type": "code",
      "metadata": {
        "id": "O20VIKhqzJzq",
        "colab_type": "code",
        "colab": {}
      },
      "source": [
        "pred = model.predict(X_test)"
      ],
      "execution_count": 0,
      "outputs": []
    },
    {
      "cell_type": "code",
      "metadata": {
        "id": "9rNlVtS42pDz",
        "colab_type": "code",
        "colab": {}
      },
      "source": [
        "prob = model.predict_proba(X_test)"
      ],
      "execution_count": 0,
      "outputs": []
    },
    {
      "cell_type": "code",
      "metadata": {
        "id": "4nDSYAw_zX_v",
        "colab_type": "code",
        "outputId": "04911477-f6d6-49c4-b903-d7c786eede6f",
        "colab": {
          "base_uri": "https://localhost:8080/",
          "height": 52
        }
      },
      "source": [
        "from sklearn.metrics import confusion_matrix\n",
        "confusion_matrix(y_test,pred)"
      ],
      "execution_count": 0,
      "outputs": [
        {
          "output_type": "execute_result",
          "data": {
            "text/plain": [
              "array([[1948,  480],\n",
              "       [  53, 2418]])"
            ]
          },
          "metadata": {
            "tags": []
          },
          "execution_count": 86
        }
      ]
    },
    {
      "cell_type": "code",
      "metadata": {
        "id": "pTHXuY1hz6g_",
        "colab_type": "code",
        "outputId": "469af643-3d8c-47b5-9e7f-85c927bb2270",
        "colab": {
          "base_uri": "https://localhost:8080/",
          "height": 34
        }
      },
      "source": [
        "from sklearn.metrics import accuracy_score\n",
        "accuracy_score(y_test,pred) * 100"
      ],
      "execution_count": 0,
      "outputs": [
        {
          "output_type": "execute_result",
          "data": {
            "text/plain": [
              "89.12022861808533"
            ]
          },
          "metadata": {
            "tags": []
          },
          "execution_count": 87
        }
      ]
    },
    {
      "cell_type": "markdown",
      "metadata": {
        "id": "H95WMxAQ05E8",
        "colab_type": "text"
      },
      "source": [
        "# Test Data"
      ]
    },
    {
      "cell_type": "code",
      "metadata": {
        "id": "4NyMnEVtz-96",
        "colab_type": "code",
        "outputId": "b68da971-b525-4a2b-a3d4-a0e281835882",
        "colab": {
          "base_uri": "https://localhost:8080/",
          "height": 226
        }
      },
      "source": [
        "df_test = pd.read_csv(\"/content/drive/My Drive/Machine Learning/bankruptcy_Test_X.csv\")\n",
        "df_test.head()"
      ],
      "execution_count": 0,
      "outputs": [
        {
          "output_type": "execute_result",
          "data": {
            "text/html": [
              "<div>\n",
              "<style scoped>\n",
              "    .dataframe tbody tr th:only-of-type {\n",
              "        vertical-align: middle;\n",
              "    }\n",
              "\n",
              "    .dataframe tbody tr th {\n",
              "        vertical-align: top;\n",
              "    }\n",
              "\n",
              "    .dataframe thead th {\n",
              "        text-align: right;\n",
              "    }\n",
              "</style>\n",
              "<table border=\"1\" class=\"dataframe\">\n",
              "  <thead>\n",
              "    <tr style=\"text-align: right;\">\n",
              "      <th></th>\n",
              "      <th>ID</th>\n",
              "      <th>Attr1</th>\n",
              "      <th>Attr2</th>\n",
              "      <th>Attr3</th>\n",
              "      <th>Attr4</th>\n",
              "      <th>Attr5</th>\n",
              "      <th>Attr6</th>\n",
              "      <th>Attr7</th>\n",
              "      <th>Attr8</th>\n",
              "      <th>Attr9</th>\n",
              "      <th>Attr10</th>\n",
              "      <th>Attr11</th>\n",
              "      <th>Attr12</th>\n",
              "      <th>Attr13</th>\n",
              "      <th>Attr14</th>\n",
              "      <th>Attr15</th>\n",
              "      <th>Attr16</th>\n",
              "      <th>Attr17</th>\n",
              "      <th>Attr18</th>\n",
              "      <th>Attr19</th>\n",
              "      <th>Attr20</th>\n",
              "      <th>Attr21</th>\n",
              "      <th>Attr22</th>\n",
              "      <th>Attr23</th>\n",
              "      <th>Attr24</th>\n",
              "      <th>Attr25</th>\n",
              "      <th>Attr26</th>\n",
              "      <th>Attr27</th>\n",
              "      <th>Attr28</th>\n",
              "      <th>Attr29</th>\n",
              "      <th>Attr30</th>\n",
              "      <th>Attr31</th>\n",
              "      <th>Attr32</th>\n",
              "      <th>Attr33</th>\n",
              "      <th>Attr34</th>\n",
              "      <th>Attr35</th>\n",
              "      <th>Attr36</th>\n",
              "      <th>Attr37</th>\n",
              "      <th>Attr38</th>\n",
              "      <th>Attr39</th>\n",
              "      <th>Attr40</th>\n",
              "      <th>Attr41</th>\n",
              "      <th>Attr42</th>\n",
              "      <th>Attr43</th>\n",
              "      <th>Attr44</th>\n",
              "      <th>Attr45</th>\n",
              "      <th>Attr46</th>\n",
              "      <th>Attr47</th>\n",
              "      <th>Attr48</th>\n",
              "      <th>Attr49</th>\n",
              "      <th>Attr50</th>\n",
              "      <th>Attr51</th>\n",
              "      <th>Attr52</th>\n",
              "      <th>Attr53</th>\n",
              "      <th>Attr54</th>\n",
              "      <th>Attr55</th>\n",
              "      <th>Attr56</th>\n",
              "      <th>Attr57</th>\n",
              "      <th>Attr58</th>\n",
              "      <th>Attr59</th>\n",
              "      <th>Attr60</th>\n",
              "      <th>Attr61</th>\n",
              "      <th>Attr62</th>\n",
              "      <th>Attr63</th>\n",
              "      <th>Attr64</th>\n",
              "    </tr>\n",
              "  </thead>\n",
              "  <tbody>\n",
              "    <tr>\n",
              "      <th>0</th>\n",
              "      <td>1</td>\n",
              "      <td>-0.047250</td>\n",
              "      <td>0.021914</td>\n",
              "      <td>-0.479502</td>\n",
              "      <td>-0.188971</td>\n",
              "      <td>0.006633</td>\n",
              "      <td>-0.016047</td>\n",
              "      <td>-0.002986</td>\n",
              "      <td>-0.329514</td>\n",
              "      <td>0.375469</td>\n",
              "      <td>-0.016634</td>\n",
              "      <td>-0.249795</td>\n",
              "      <td>-0.145741</td>\n",
              "      <td>-0.011953</td>\n",
              "      <td>-0.002992</td>\n",
              "      <td>0.008342</td>\n",
              "      <td>-0.361397</td>\n",
              "      <td>-0.344137</td>\n",
              "      <td>-0.005081</td>\n",
              "      <td>0.006115</td>\n",
              "      <td>-0.016321</td>\n",
              "      <td>-0.015268</td>\n",
              "      <td>-0.384591</td>\n",
              "      <td>0.009899</td>\n",
              "      <td>-0.034303</td>\n",
              "      <td>0.022256</td>\n",
              "      <td>-0.333251</td>\n",
              "      <td>-0.009936</td>\n",
              "      <td>-0.020861</td>\n",
              "      <td>1.193393</td>\n",
              "      <td>-0.018606</td>\n",
              "      <td>0.011203</td>\n",
              "      <td>-0.015171</td>\n",
              "      <td>-0.341117</td>\n",
              "      <td>0.259079</td>\n",
              "      <td>-0.418782</td>\n",
              "      <td>0.099623</td>\n",
              "      <td>-0.033448</td>\n",
              "      <td>-0.039713</td>\n",
              "      <td>-0.016500</td>\n",
              "      <td>-0.096417</td>\n",
              "      <td>-0.007276</td>\n",
              "      <td>-0.012876</td>\n",
              "      <td>-0.017523</td>\n",
              "      <td>-0.015877</td>\n",
              "      <td>0.003988</td>\n",
              "      <td>-0.191949</td>\n",
              "      <td>-0.019760</td>\n",
              "      <td>-0.270192</td>\n",
              "      <td>0.006308</td>\n",
              "      <td>-0.295406</td>\n",
              "      <td>0.574289</td>\n",
              "      <td>-0.014527</td>\n",
              "      <td>-0.020433</td>\n",
              "      <td>-0.019761</td>\n",
              "      <td>-0.099951</td>\n",
              "      <td>0.011121</td>\n",
              "      <td>0.006535</td>\n",
              "      <td>-0.011163</td>\n",
              "      <td>-0.020783</td>\n",
              "      <td>-0.041831</td>\n",
              "      <td>-0.020144</td>\n",
              "      <td>-0.011491</td>\n",
              "      <td>-0.301879</td>\n",
              "      <td>-0.030549</td>\n",
              "    </tr>\n",
              "    <tr>\n",
              "      <th>1</th>\n",
              "      <td>2</td>\n",
              "      <td>-0.052601</td>\n",
              "      <td>-0.016568</td>\n",
              "      <td>-0.175990</td>\n",
              "      <td>-0.153471</td>\n",
              "      <td>0.007068</td>\n",
              "      <td>-0.018521</td>\n",
              "      <td>0.000176</td>\n",
              "      <td>-0.157408</td>\n",
              "      <td>0.116759</td>\n",
              "      <td>0.032111</td>\n",
              "      <td>-0.175399</td>\n",
              "      <td>-0.126963</td>\n",
              "      <td>-0.011374</td>\n",
              "      <td>0.000170</td>\n",
              "      <td>-0.005997</td>\n",
              "      <td>-0.232416</td>\n",
              "      <td>-0.180306</td>\n",
              "      <td>-0.001967</td>\n",
              "      <td>0.011318</td>\n",
              "      <td>-0.016419</td>\n",
              "      <td>-0.015782</td>\n",
              "      <td>-0.216514</td>\n",
              "      <td>0.010044</td>\n",
              "      <td>-0.042556</td>\n",
              "      <td>-0.059980</td>\n",
              "      <td>-0.243897</td>\n",
              "      <td>-0.009714</td>\n",
              "      <td>-0.019155</td>\n",
              "      <td>-0.468250</td>\n",
              "      <td>-0.019173</td>\n",
              "      <td>0.008893</td>\n",
              "      <td>-0.017623</td>\n",
              "      <td>-0.271165</td>\n",
              "      <td>0.445362</td>\n",
              "      <td>-0.227724</td>\n",
              "      <td>-0.147561</td>\n",
              "      <td>-0.032719</td>\n",
              "      <td>-0.009827</td>\n",
              "      <td>-0.000997</td>\n",
              "      <td>-0.124831</td>\n",
              "      <td>-0.007386</td>\n",
              "      <td>-0.001206</td>\n",
              "      <td>-0.013247</td>\n",
              "      <td>-0.011348</td>\n",
              "      <td>0.003992</td>\n",
              "      <td>-0.148674</td>\n",
              "      <td>-0.022731</td>\n",
              "      <td>-0.203003</td>\n",
              "      <td>0.009203</td>\n",
              "      <td>-0.147176</td>\n",
              "      <td>0.200948</td>\n",
              "      <td>-0.016984</td>\n",
              "      <td>-0.014009</td>\n",
              "      <td>-0.017853</td>\n",
              "      <td>-0.111767</td>\n",
              "      <td>0.009484</td>\n",
              "      <td>0.005082</td>\n",
              "      <td>-0.009624</td>\n",
              "      <td>-0.022003</td>\n",
              "      <td>-0.041819</td>\n",
              "      <td>-0.175267</td>\n",
              "      <td>-0.011735</td>\n",
              "      <td>-0.291649</td>\n",
              "      <td>-0.034183</td>\n",
              "    </tr>\n",
              "    <tr>\n",
              "      <th>2</th>\n",
              "      <td>3</td>\n",
              "      <td>-0.259217</td>\n",
              "      <td>0.046521</td>\n",
              "      <td>0.950983</td>\n",
              "      <td>-0.003660</td>\n",
              "      <td>0.006138</td>\n",
              "      <td>-0.016047</td>\n",
              "      <td>-0.039728</td>\n",
              "      <td>-0.407930</td>\n",
              "      <td>-0.757937</td>\n",
              "      <td>-0.047804</td>\n",
              "      <td>-0.781922</td>\n",
              "      <td>-0.316236</td>\n",
              "      <td>-0.015517</td>\n",
              "      <td>-0.039733</td>\n",
              "      <td>-0.066344</td>\n",
              "      <td>-0.687838</td>\n",
              "      <td>-0.418815</td>\n",
              "      <td>-0.041258</td>\n",
              "      <td>-0.098265</td>\n",
              "      <td>0.326758</td>\n",
              "      <td>-0.017247</td>\n",
              "      <td>-0.804517</td>\n",
              "      <td>-0.094671</td>\n",
              "      <td>-0.063524</td>\n",
              "      <td>-0.459221</td>\n",
              "      <td>-0.681645</td>\n",
              "      <td>-0.010105</td>\n",
              "      <td>-0.004210</td>\n",
              "      <td>-1.279877</td>\n",
              "      <td>0.006348</td>\n",
              "      <td>-0.081556</td>\n",
              "      <td>-0.002804</td>\n",
              "      <td>-0.517755</td>\n",
              "      <td>-0.320109</td>\n",
              "      <td>-0.919231</td>\n",
              "      <td>-0.983283</td>\n",
              "      <td>-0.034556</td>\n",
              "      <td>0.005134</td>\n",
              "      <td>-0.116843</td>\n",
              "      <td>-0.141577</td>\n",
              "      <td>-0.007764</td>\n",
              "      <td>-0.085824</td>\n",
              "      <td>0.046230</td>\n",
              "      <td>-0.003670</td>\n",
              "      <td>0.003448</td>\n",
              "      <td>-0.204495</td>\n",
              "      <td>0.082977</td>\n",
              "      <td>-0.583000</td>\n",
              "      <td>-0.083835</td>\n",
              "      <td>-0.113177</td>\n",
              "      <td>0.001399</td>\n",
              "      <td>-0.002133</td>\n",
              "      <td>-0.005380</td>\n",
              "      <td>-0.002679</td>\n",
              "      <td>-0.108811</td>\n",
              "      <td>0.007258</td>\n",
              "      <td>-0.021684</td>\n",
              "      <td>-0.006817</td>\n",
              "      <td>-0.008609</td>\n",
              "      <td>-0.047636</td>\n",
              "      <td>-0.270637</td>\n",
              "      <td>0.002269</td>\n",
              "      <td>-0.549296</td>\n",
              "      <td>-0.037978</td>\n",
              "    </tr>\n",
              "    <tr>\n",
              "      <th>3</th>\n",
              "      <td>4</td>\n",
              "      <td>0.088328</td>\n",
              "      <td>0.017722</td>\n",
              "      <td>-0.540323</td>\n",
              "      <td>-0.194584</td>\n",
              "      <td>0.007411</td>\n",
              "      <td>0.025332</td>\n",
              "      <td>0.028561</td>\n",
              "      <td>-0.326402</td>\n",
              "      <td>-0.366550</td>\n",
              "      <td>-0.018413</td>\n",
              "      <td>0.318726</td>\n",
              "      <td>-0.044947</td>\n",
              "      <td>-0.011812</td>\n",
              "      <td>0.028556</td>\n",
              "      <td>-0.013265</td>\n",
              "      <td>-0.053689</td>\n",
              "      <td>-0.329503</td>\n",
              "      <td>0.025982</td>\n",
              "      <td>0.016366</td>\n",
              "      <td>-0.070551</td>\n",
              "      <td>-0.014731</td>\n",
              "      <td>0.388869</td>\n",
              "      <td>0.016524</td>\n",
              "      <td>0.020788</td>\n",
              "      <td>0.060132</td>\n",
              "      <td>-0.082834</td>\n",
              "      <td>-0.009972</td>\n",
              "      <td>-0.021221</td>\n",
              "      <td>0.463268</td>\n",
              "      <td>-0.024915</td>\n",
              "      <td>0.011970</td>\n",
              "      <td>-0.025194</td>\n",
              "      <td>0.241806</td>\n",
              "      <td>-0.583648</td>\n",
              "      <td>0.427051</td>\n",
              "      <td>2.205310</td>\n",
              "      <td>-0.016294</td>\n",
              "      <td>-0.057617</td>\n",
              "      <td>0.006989</td>\n",
              "      <td>-0.065457</td>\n",
              "      <td>-0.007418</td>\n",
              "      <td>0.005808</td>\n",
              "      <td>-0.026562</td>\n",
              "      <td>-0.016710</td>\n",
              "      <td>0.010284</td>\n",
              "      <td>-0.091349</td>\n",
              "      <td>-0.042706</td>\n",
              "      <td>0.337470</td>\n",
              "      <td>0.030682</td>\n",
              "      <td>-0.234406</td>\n",
              "      <td>0.781933</td>\n",
              "      <td>-0.024571</td>\n",
              "      <td>-0.018674</td>\n",
              "      <td>-0.020355</td>\n",
              "      <td>-0.130015</td>\n",
              "      <td>0.009634</td>\n",
              "      <td>0.021932</td>\n",
              "      <td>-0.009791</td>\n",
              "      <td>-0.023085</td>\n",
              "      <td>0.076183</td>\n",
              "      <td>0.033484</td>\n",
              "      <td>-0.017165</td>\n",
              "      <td>0.187840</td>\n",
              "      <td>0.000147</td>\n",
              "    </tr>\n",
              "    <tr>\n",
              "      <th>4</th>\n",
              "      <td>5</td>\n",
              "      <td>0.011902</td>\n",
              "      <td>0.123401</td>\n",
              "      <td>0.730972</td>\n",
              "      <td>0.081123</td>\n",
              "      <td>0.008173</td>\n",
              "      <td>-0.000894</td>\n",
              "      <td>0.011519</td>\n",
              "      <td>-0.579511</td>\n",
              "      <td>-0.332887</td>\n",
              "      <td>-0.154648</td>\n",
              "      <td>0.002688</td>\n",
              "      <td>0.006495</td>\n",
              "      <td>-0.010183</td>\n",
              "      <td>0.011514</td>\n",
              "      <td>0.000210</td>\n",
              "      <td>-0.305759</td>\n",
              "      <td>-0.572108</td>\n",
              "      <td>0.009202</td>\n",
              "      <td>0.031915</td>\n",
              "      <td>-0.031292</td>\n",
              "      <td>-0.015367</td>\n",
              "      <td>0.058784</td>\n",
              "      <td>0.029161</td>\n",
              "      <td>-0.022138</td>\n",
              "      <td>-0.278317</td>\n",
              "      <td>-0.300371</td>\n",
              "      <td>-0.009952</td>\n",
              "      <td>-0.013624</td>\n",
              "      <td>0.813049</td>\n",
              "      <td>-0.006718</td>\n",
              "      <td>0.028447</td>\n",
              "      <td>-0.022328</td>\n",
              "      <td>-0.042313</td>\n",
              "      <td>-0.640521</td>\n",
              "      <td>0.063129</td>\n",
              "      <td>-0.360093</td>\n",
              "      <td>-0.034564</td>\n",
              "      <td>0.046063</td>\n",
              "      <td>0.032183</td>\n",
              "      <td>-0.075410</td>\n",
              "      <td>-0.007370</td>\n",
              "      <td>0.025461</td>\n",
              "      <td>-0.007818</td>\n",
              "      <td>-0.003227</td>\n",
              "      <td>0.004721</td>\n",
              "      <td>0.137676</td>\n",
              "      <td>-0.027476</td>\n",
              "      <td>0.009931</td>\n",
              "      <td>0.027393</td>\n",
              "      <td>-0.519688</td>\n",
              "      <td>-0.647166</td>\n",
              "      <td>-0.021700</td>\n",
              "      <td>-0.041020</td>\n",
              "      <td>-0.012765</td>\n",
              "      <td>0.282996</td>\n",
              "      <td>0.010097</td>\n",
              "      <td>0.067074</td>\n",
              "      <td>-0.010255</td>\n",
              "      <td>0.145350</td>\n",
              "      <td>-0.039437</td>\n",
              "      <td>-0.273849</td>\n",
              "      <td>-0.015402</td>\n",
              "      <td>-0.050778</td>\n",
              "      <td>-0.036754</td>\n",
              "    </tr>\n",
              "  </tbody>\n",
              "</table>\n",
              "</div>"
            ],
            "text/plain": [
              "   ID     Attr1     Attr2     Attr3  ...    Attr61    Attr62    Attr63    Attr64\n",
              "0   1 -0.047250  0.021914 -0.479502  ... -0.020144 -0.011491 -0.301879 -0.030549\n",
              "1   2 -0.052601 -0.016568 -0.175990  ... -0.175267 -0.011735 -0.291649 -0.034183\n",
              "2   3 -0.259217  0.046521  0.950983  ... -0.270637  0.002269 -0.549296 -0.037978\n",
              "3   4  0.088328  0.017722 -0.540323  ...  0.033484 -0.017165  0.187840  0.000147\n",
              "4   5  0.011902  0.123401  0.730972  ... -0.273849 -0.015402 -0.050778 -0.036754\n",
              "\n",
              "[5 rows x 65 columns]"
            ]
          },
          "metadata": {
            "tags": []
          },
          "execution_count": 88
        }
      ]
    },
    {
      "cell_type": "code",
      "metadata": {
        "id": "5sRFwR0m3C9Z",
        "colab_type": "code",
        "colab": {}
      },
      "source": [
        "colt = df_test.columns\n",
        "dropcolt = []\n",
        "for i in colt:\n",
        "  if i not in relevant_features:\n",
        "    dropcolt.append(i)\n",
        "df_test = df_test.drop(dropcolt,axis = 1)"
      ],
      "execution_count": 0,
      "outputs": []
    },
    {
      "cell_type": "code",
      "metadata": {
        "id": "el1X8iil3W1b",
        "colab_type": "code",
        "colab": {}
      },
      "source": [
        "df_test = scaler.transform(df_test)"
      ],
      "execution_count": 0,
      "outputs": []
    },
    {
      "cell_type": "code",
      "metadata": {
        "id": "GglGxBIU3kqu",
        "colab_type": "code",
        "colab": {}
      },
      "source": [
        "final_pred = model.predict(df_test)"
      ],
      "execution_count": 0,
      "outputs": []
    },
    {
      "cell_type": "code",
      "metadata": {
        "id": "VmQUWJdt4Lp4",
        "colab_type": "code",
        "outputId": "bee2574d-f1a6-4228-a99e-c2688f68c354",
        "colab": {
          "base_uri": "https://localhost:8080/",
          "height": 206
        }
      },
      "source": [
        "df_y = pd.read_csv(\"/content/drive/My Drive/Machine Learning/bankruptcy_sample_Y.csv\")\n",
        "df_y.head()"
      ],
      "execution_count": 0,
      "outputs": [
        {
          "output_type": "execute_result",
          "data": {
            "text/html": [
              "<div>\n",
              "<style scoped>\n",
              "    .dataframe tbody tr th:only-of-type {\n",
              "        vertical-align: middle;\n",
              "    }\n",
              "\n",
              "    .dataframe tbody tr th {\n",
              "        vertical-align: top;\n",
              "    }\n",
              "\n",
              "    .dataframe thead th {\n",
              "        text-align: right;\n",
              "    }\n",
              "</style>\n",
              "<table border=\"1\" class=\"dataframe\">\n",
              "  <thead>\n",
              "    <tr style=\"text-align: right;\">\n",
              "      <th></th>\n",
              "      <th>ID</th>\n",
              "      <th>class</th>\n",
              "    </tr>\n",
              "  </thead>\n",
              "  <tbody>\n",
              "    <tr>\n",
              "      <th>0</th>\n",
              "      <td>1</td>\n",
              "      <td>0.111</td>\n",
              "    </tr>\n",
              "    <tr>\n",
              "      <th>1</th>\n",
              "      <td>2</td>\n",
              "      <td>0.222</td>\n",
              "    </tr>\n",
              "    <tr>\n",
              "      <th>2</th>\n",
              "      <td>3</td>\n",
              "      <td>0.342</td>\n",
              "    </tr>\n",
              "    <tr>\n",
              "      <th>3</th>\n",
              "      <td>4</td>\n",
              "      <td>0.111</td>\n",
              "    </tr>\n",
              "    <tr>\n",
              "      <th>4</th>\n",
              "      <td>5</td>\n",
              "      <td>0.555</td>\n",
              "    </tr>\n",
              "  </tbody>\n",
              "</table>\n",
              "</div>"
            ],
            "text/plain": [
              "   ID  class\n",
              "0   1  0.111\n",
              "1   2  0.222\n",
              "2   3  0.342\n",
              "3   4  0.111\n",
              "4   5  0.555"
            ]
          },
          "metadata": {
            "tags": []
          },
          "execution_count": 95
        }
      ]
    },
    {
      "cell_type": "code",
      "metadata": {
        "id": "5o084w7o4Xv5",
        "colab_type": "code",
        "colab": {}
      },
      "source": [
        "df_y = df_y.drop(['class'], axis=1)"
      ],
      "execution_count": 0,
      "outputs": []
    },
    {
      "cell_type": "code",
      "metadata": {
        "id": "6-xLzHAO3xDR",
        "colab_type": "code",
        "colab": {}
      },
      "source": [
        "subm = pd.DataFrame({\n",
        "        \"ID\": df_y[\"ID\"],\n",
        "        \"class\": final_pred\n",
        "    })\n",
        "\n",
        "subm.to_csv('submission.csv', index=False)"
      ],
      "execution_count": 0,
      "outputs": []
    },
    {
      "cell_type": "code",
      "metadata": {
        "id": "2IshEJI-39vd",
        "colab_type": "code",
        "colab": {}
      },
      "source": [
        ""
      ],
      "execution_count": 0,
      "outputs": []
    }
  ]
}